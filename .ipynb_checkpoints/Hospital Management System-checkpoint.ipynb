{
 "cells": [
  {
   "cell_type": "code",
   "execution_count": 23,
   "id": "b81ba3ec-71b0-4d6e-aab2-615c816e591c",
   "metadata": {},
   "outputs": [],
   "source": [
    "import pandas as pd"
   ]
  },
  {
   "cell_type": "code",
   "execution_count": 24,
   "id": "53c7dc60-e15d-4938-969c-93fb93ab6d36",
   "metadata": {},
   "outputs": [],
   "source": [
    "df = pd.read_csv('Walmart.csv')\n"
   ]
  },
  {
   "cell_type": "code",
   "execution_count": 33,
   "id": "f03fc45f-a494-4570-8203-4068bfe6eb69",
   "metadata": {},
   "outputs": [],
   "source": [
    "import pymysql\n",
    "import csv \n",
    "import mysql.connector"
   ]
  },
  {
   "cell_type": "code",
   "execution_count": 13,
   "id": "ed019306-1dd4-43ab-9a5b-f054fd18a195",
   "metadata": {},
   "outputs": [
    {
     "name": "stdout",
     "output_type": "stream",
     "text": [
      "<mysql.connector.connection.MySQLConnection object at 0x11c187910>\n"
     ]
    }
   ],
   "source": [
    "mydb = mysql.connector.connect(\n",
    "\n",
    "  host=\"localhost\",\n",
    "\n",
    "  user=\"root\",\n",
    "\n",
    "  password=\"12345678\"\n",
    "\n",
    ")\n",
    "\n",
    "print(mydb)"
   ]
  },
  {
   "cell_type": "code",
   "execution_count": 27,
   "id": "488bdebc-32c1-48d8-b622-7ebb45506f6c",
   "metadata": {},
   "outputs": [],
   "source": [
    "from __future__ import print_function\n",
    "\n",
    "localhost = \"localhost\"\n",
    "\n",
    "yourusername = \"root\"\n",
    "\n",
    "yourpassword = \"12345678\"\n",
    "\n",
    "yourdbname = \"walmart\"\n",
    "\n",
    "# engine = mysql.connector.connect( host=localhost, user=yourusername, passwd=yourpassword, db=yourdbname )\n",
    "\n",
    "\n",
    "\n",
    "# myConnection.close()"
   ]
  },
  {
   "cell_type": "code",
   "execution_count": 28,
   "id": "fbb9eee6-de64-465f-83bc-eb981eafbdc8",
   "metadata": {},
   "outputs": [],
   "source": [
    "csv_file_path = 'walmart.csv'\n",
    "table_name = 'walmart_data'"
   ]
  },
  {
   "cell_type": "code",
   "execution_count": 34,
   "id": "49571dbd-ec0c-45af-87b4-6462497856d9",
   "metadata": {},
   "outputs": [
    {
     "name": "stdout",
     "output_type": "stream",
     "text": [
      "CSV data imported into MySQL successfully\n"
     ]
    }
   ],
   "source": [
    "\n",
    "# Connect to MySQL\n",
    "connection = mysql.connector.connect(\n",
    "   host=localhost, user=yourusername, passwd=yourpassword, db=yourdbname\n",
    ")\n",
    "if connection.is_connected():\n",
    "    cursor = connection.cursor()\n",
    "    # Drop table if it exists (optional, to start fresh)\n",
    "    cursor.execute(f\"DROP TABLE IF EXISTS {table_name}\")\n",
    "    # Create table from CSV file headers\n",
    "    create_table_query = f\"CREATE TABLE {table_name} (\"\n",
    "    with open(csv_file_path, 'r') as file:\n",
    "        reader = csv.reader(file)\n",
    "        headers = next(reader)  # Read the first line as headers\n",
    "        for header in headers:\n",
    "            create_table_query += f\"{header} VARCHAR(255), \"\n",
    "        create_table_query = create_table_query[:-2] + \")\"  # Remove last comma and space\n",
    "    cursor.execute(create_table_query)\n",
    "    # Insert data from CSV file\n",
    "    with open(csv_file_path, 'r') as file:\n",
    "        next(file)  # Skip header row\n",
    "        csv_data = csv.reader(file)\n",
    "        for row in csv_data:\n",
    "            cursor.execute(f\"INSERT INTO {table_name} ({', '.join(headers)}) VALUES ({', '.join(['%s'] * len(headers))})\", row)\n",
    "    connection.commit()\n",
    "    print(\"CSV data imported into MySQL successfully\")\n",
    "\n",
    "\n",
    "# if connection.is_connected():\n",
    "#     cursor.close()\n",
    "#     connection.close()\n",
    "#     print(\"MySQL connection is closed\")"
   ]
  },
  {
   "cell_type": "code",
   "execution_count": 43,
   "id": "ffd5045a-6fc3-4226-bd3a-2ce91181e85a",
   "metadata": {},
   "outputs": [
    {
     "name": "stdout",
     "output_type": "stream",
     "text": [
      "[(6737218987.11001,)]\n"
     ]
    }
   ],
   "source": [
    "query = \"SELECT SUM(Weekly_Sales) FROM walmart_data;\"\n",
    "cursor.execute(query)\n",
    "rows = cursor.fetchall()\n",
    "print(rows)"
   ]
  },
  {
   "cell_type": "code",
   "execution_count": null,
   "id": "9390293c-2084-4dbb-b870-0c4e07810828",
   "metadata": {},
   "outputs": [],
   "source": [
    "query = \"SELECT SUM(Weekly_Sales) FROM walmart_data;\"\n",
    "cursor.execute(query)\n",
    "rows = cursor.fetchall()\n",
    "print(rows)"
   ]
  }
 ],
 "metadata": {
  "kernelspec": {
   "display_name": "Python 3 (ipykernel)",
   "language": "python",
   "name": "python3"
  },
  "language_info": {
   "codemirror_mode": {
    "name": "ipython",
    "version": 3
   },
   "file_extension": ".py",
   "mimetype": "text/x-python",
   "name": "python",
   "nbconvert_exporter": "python",
   "pygments_lexer": "ipython3",
   "version": "3.8.19"
  }
 },
 "nbformat": 4,
 "nbformat_minor": 5
}
